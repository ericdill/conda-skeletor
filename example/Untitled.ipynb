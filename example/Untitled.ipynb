{
 "cells": [
  {
   "cell_type": "code",
   "execution_count": 1,
   "metadata": {
    "collapsed": true
   },
   "outputs": [],
   "source": [
    "import ast\n",
    "import os"
   ]
  },
  {
   "cell_type": "code",
   "execution_count": 2,
   "metadata": {
    "collapsed": true
   },
   "outputs": [],
   "source": [
    "def setuppy_to_ast_tree(path_to_setuppy):\n",
    "    with open(path_to_setuppy, 'r') as f:\n",
    "        code = f.read()\n",
    "        print(code)\n",
    "    tree = ast.parse(code)\n",
    "    return tree"
   ]
  },
  {
   "cell_type": "code",
   "execution_count": 119,
   "metadata": {
    "collapsed": false
   },
   "outputs": [],
   "source": [
    "setuppy_path = os.path.join(os.path.expanduser('~/dev/python/scikit-xray/setup.py'))"
   ]
  },
  {
   "cell_type": "code",
   "execution_count": 120,
   "metadata": {
    "collapsed": false
   },
   "outputs": [
    {
     "name": "stdout",
     "output_type": "stream",
     "text": [
      "#!/usr/bin/env python\n",
      "\n",
      "import setuptools\n",
      "from distutils.core import setup, Extension\n",
      "from setupext import ext_modules\n",
      "import versioneer\n",
      "import numpy as np\n",
      "import os\n",
      "\n",
      "# Utility function to read the README file.\n",
      "# Used for the long_description.  It's nice, because now 1) we have a top level\n",
      "# README file and 2) it's easier to type in the README file than to put a raw\n",
      "# string in below ...\n",
      "def read(fname):\n",
      "    return open(os.path.join(os.path.dirname(__file__), fname)).read()\n",
      "\n",
      "setup(\n",
      "    name='scikit-xray',\n",
      "    version=versioneer.get_version(),\n",
      "    cmdclass=versioneer.get_cmdclass(),\n",
      "    author='Brookhaven National Lab',\n",
      "    description=\"Data analysis tools for X-ray science\",\n",
      "    packages=setuptools.find_packages(exclude=['doc']),\n",
      "    include_dirs=[np.get_include()],\n",
      "    package_data={'skxray.core.constants': ['data/*.dat']},\n",
      "    install_requires=['six', 'numpy'],  # essential deps only\n",
      "    ext_modules=ext_modules,\n",
      "    url='http://github.com/scikit-xray/scikit-xray',\n",
      "    keywords='Xray Analysis',\n",
      "    license='BSD',\n",
      "    classifiers=['Development Status :: 3 - Alpha',\n",
      "                 \"License :: OSI Approved :: BSD License\",\n",
      "                 \"Programming Language :: Python :: 2.7\",\n",
      "                 \"Programming Language :: Python :: 3.4\",\n",
      "                 \"Topic :: Scientific/Engineering :: Physics\",\n",
      "                 \"Topic :: Scientific/Engineering :: Chemistry\",\n",
      "                 \"Topic :: Software Development :: Libraries\",\n",
      "                 \"Intended Audience :: Science/Research\",\n",
      "                 \"Intended Audience :: Developers\",\n",
      "                 ], requires=['numpy']\n",
      "    )\n",
      "\n"
     ]
    }
   ],
   "source": [
    "tree = setuppy_to_ast_tree(setuppy_path)"
   ]
  },
  {
   "cell_type": "code",
   "execution_count": 114,
   "metadata": {
    "collapsed": false
   },
   "outputs": [
    {
     "name": "stdout",
     "output_type": "stream",
     "text": [
      "{'module': '__future__', 'lineno': 1, 'level': 0, 'names': [<_ast.alias object at 0x7f43f80b2908>, <_ast.alias object at 0x7f43f80b2b38>, <_ast.alias object at 0x7f43f80b2be0>], 'col_offset': 0}\n",
      "{'names': [<_ast.alias object at 0x7f43f80b2ac8>], 'lineno': 4, 'col_offset': 0}\n",
      "{'names': [<_ast.alias object at 0x7f43f8097080>], 'lineno': 5, 'col_offset': 0}\n",
      "{'col_offset': 0, 'lineno': 6, 'orelse': [], 'finalbody': [], 'handlers': [<_ast.ExceptHandler object at 0x7f43f8097198>], 'body': [<_ast.ImportFrom object at 0x7f43f80970b8>]}\n",
      "{'module': 'distutils.core', 'lineno': 14, 'level': 0, 'names': [<_ast.alias object at 0x7f43f80973c8>, <_ast.alias object at 0x7f43f8097400>], 'col_offset': 0}\n",
      "{'names': [<_ast.alias object at 0x7f43f8097470>], 'lineno': 15, 'col_offset': 0}\n",
      "{'targets': [<_ast.Name object at 0x7f43f80974e0>], 'lineno': 17, 'value': <_ast.Num object at 0x7f43f80970f0>, 'col_offset': 0}\n",
      "{'targets': [<_ast.Name object at 0x7f43f8097518>], 'lineno': 18, 'value': <_ast.Num object at 0x7f43f8097550>, 'col_offset': 0}\n",
      "{'targets': [<_ast.Name object at 0x7f43f80975c0>], 'lineno': 19, 'value': <_ast.Num object at 0x7f43f80976a0>, 'col_offset': 0}\n",
      "{'targets': [<_ast.Name object at 0x7f43f8097710>], 'lineno': 20, 'value': <_ast.NameConstant object at 0x7f43f80978d0>, 'col_offset': 0}\n",
      "{'targets': [<_ast.Name object at 0x7f43f8097a90>], 'lineno': 21, 'value': <_ast.NameConstant object at 0x7f43f8097be0>, 'col_offset': 0}\n",
      "{'targets': [<_ast.Name object at 0x7f43f8097c50>], 'lineno': 22, 'value': <_ast.BinOp object at 0x7f43f8097c88>, 'col_offset': 0}\n",
      "{'targets': [<_ast.Name object at 0x7f43f8097a58>], 'lineno': 23, 'value': <_ast.Str object at 0x7f43f8097a20>, 'col_offset': 0}\n",
      "{'targets': [<_ast.Name object at 0x7f43f8097e48>], 'lineno': 25, 'value': <_ast.Name object at 0x7f43f8097e80>, 'col_offset': 0}\n",
      "{'value': <_ast.Call object at 0x7f43f8097ef0>, 'col_offset': 0, 'lineno': 26}\n",
      "{'test': <_ast.UnaryOp object at 0x7f43f8097da0>, 'lineno': 28, 'orelse': [<_ast.AugAssign object at 0x7f43f80c32e8>], 'col_offset': 0, 'body': [<_ast.Import object at 0x7f43f8097e10>, <_ast.AugAssign object at 0x7f43f8097940>, <_ast.If object at 0x7f43f80977f0>]}\n",
      "{'value': <_ast.Call object at 0x7f43f80c33c8>, 'col_offset': 0, 'lineno': 60}\n"
     ]
    }
   ],
   "source": [
    "for t in tree.body:\n",
    "    print(vars(t))"
   ]
  },
  {
   "cell_type": "code",
   "execution_count": 115,
   "metadata": {
    "collapsed": false
   },
   "outputs": [],
   "source": [
    "class SetupScraper(ast.NodeVisitor):\n",
    "    def __init__(self):\n",
    "        self.in_setup = False\n",
    "        self.setup_info = []\n",
    "    \n",
    "    def visit_keyword(self, node):\n",
    "        if self.in_setup:\n",
    "            self.setup_info.append([node.arg])\n",
    "            print(vars(node))\n",
    "        self.visit(node.value)\n",
    "        \n",
    "    def visit_Call(self, node):\n",
    "        if self.in_setup:\n",
    "            self.setup_info[-1].append(node)\n",
    "        if isinstance(node.func, ast.Name) and node.func.id == 'setup':\n",
    "            self.in_setup = True\n",
    "        self.generic_visit(node)\n",
    "        if isinstance(node.func, ast.Name) and node.func.id == 'setup':\n",
    "            self.in_setup = False\n",
    "    def visit_Name(self, node):\n",
    "        if node.id == 'setup':\n",
    "            return\n",
    "        if self.in_setup:\n",
    "            self.setup_info[-1].append(node.id)\n",
    "            print(vars(node))\n",
    "    def visit_Str(self, node):\n",
    "        if self.in_setup:\n",
    "            self.setup_info[-1].append(node.s)\n",
    "            print(node.s)\n",
    "            \n",
    "    def generic_visit(self, node):\n",
    "        \"\"\"Called if no explicit visitor function exists for a node.\n",
    "\n",
    "        Overridden from the ast.NodeVisitor base class so that I can add some\n",
    "        local state to keep track of whether or not my node visitor is inside\n",
    "        a try/except block.  When a try block is encountered, the node is added\n",
    "        to the `trys` instance attribute and then the try block is recursed in\n",
    "        to.  Once the recursion has exited, the node is removed from the `trys`\n",
    "        instance attribute\n",
    "        \"\"\"\n",
    "        for field, value in ast.iter_fields(node):\n",
    "            if isinstance(value, list):\n",
    "                for item in value:\n",
    "                    if isinstance(item, ast.AST):\n",
    "                        self.visit(item)\n",
    "            elif isinstance(value, ast.AST):\n",
    "                self.visit(value)\n"
   ]
  },
  {
   "cell_type": "code",
   "execution_count": 116,
   "metadata": {
    "collapsed": true
   },
   "outputs": [],
   "source": [
    "scraper = SetupScraper()"
   ]
  },
  {
   "cell_type": "code",
   "execution_count": 117,
   "metadata": {
    "collapsed": false,
    "scrolled": false
   },
   "outputs": [
    {
     "name": "stdout",
     "output_type": "stream",
     "text": [
      "{'arg': 'name', 'value': <_ast.Str object at 0x7f43f80c3470>}\n",
      "replay\n",
      "{'arg': 'version', 'value': <_ast.Name object at 0x7f43f80c34e0>}\n",
      "{'ctx': <_ast.Load object at 0x7f4401f95908>, 'lineno': 62, 'id': 'FULLVERSION', 'col_offset': 12}\n",
      "{'arg': 'author', 'value': <_ast.Str object at 0x7f43f80c3550>}\n",
      "Brookhaven National Laboratory\n",
      "{'arg': 'packages', 'value': <_ast.List object at 0x7f43f80c35c0>}\n",
      "replay\n",
      "replay.muxer\n",
      "replay.scalar\n",
      "replay.search\n",
      "replay.tests\n",
      "{'arg': 'entry_points', 'value': <_ast.Dict object at 0x7f43f80c3748>}\n",
      "console_scripts\n",
      "replay = replay.replay:main\n",
      "{'arg': 'package_data', 'value': <_ast.Dict object at 0x7f43f80c3860>}\n",
      "replay.gui\n",
      "*.enaml\n"
     ]
    }
   ],
   "source": [
    "scraper.visit(tree)"
   ]
  },
  {
   "cell_type": "code",
   "execution_count": 118,
   "metadata": {
    "collapsed": false
   },
   "outputs": [
    {
     "data": {
      "text/plain": [
       "[['name', 'replay'],\n",
       " ['version', 'FULLVERSION'],\n",
       " ['author', 'Brookhaven National Laboratory'],\n",
       " ['packages',\n",
       "  'replay',\n",
       "  'replay.muxer',\n",
       "  'replay.scalar',\n",
       "  'replay.search',\n",
       "  'replay.tests'],\n",
       " ['entry_points', 'console_scripts', 'replay = replay.replay:main'],\n",
       " ['package_data', 'replay.gui', '*.enaml']]"
      ]
     },
     "execution_count": 118,
     "metadata": {},
     "output_type": "execute_result"
    }
   ],
   "source": [
    "scraper.setup_info"
   ]
  },
  {
   "cell_type": "code",
   "execution_count": 111,
   "metadata": {
    "collapsed": false
   },
   "outputs": [
    {
     "ename": "AttributeError",
     "evalue": "'If' object has no attribute 'value'",
     "output_type": "error",
     "traceback": [
      "\u001b[1;31m---------------------------------------------------------------------------\u001b[0m",
      "\u001b[1;31mAttributeError\u001b[0m                            Traceback (most recent call last)",
      "\u001b[1;32m<ipython-input-111-4e51a5dd927d>\u001b[0m in \u001b[0;36m<module>\u001b[1;34m()\u001b[0m\n\u001b[1;32m----> 1\u001b[1;33m \u001b[0mvars\u001b[0m\u001b[1;33m(\u001b[0m\u001b[0msetup_call\u001b[0m\u001b[1;33m.\u001b[0m\u001b[0mvalue\u001b[0m\u001b[1;33m)\u001b[0m\u001b[1;33m\u001b[0m\u001b[0m\n\u001b[0m",
      "\u001b[1;31mAttributeError\u001b[0m: 'If' object has no attribute 'value'"
     ]
    }
   ],
   "source": [
    "vars(setup_call.value)"
   ]
  },
  {
   "cell_type": "code",
   "execution_count": 79,
   "metadata": {
    "collapsed": false
   },
   "outputs": [
    {
     "name": "stdout",
     "output_type": "stream",
     "text": [
      "name=scikit-xray\n",
      "version=get_version()\n",
      "cmdclass=get_cmdclass()\n",
      "author=Brookhaven National Lab\n",
      "description=Data analysis tools for X-ray science\n",
      "packages=find_packages()\n",
      "include_dirs=[{'col_offset': 18, 'starargs': None, 'func': <_ast.Attribute object at 0x7f7eec2b4320>, 'kwargs': None, 'args': [], 'keywords': [], 'lineno': 24}]\n",
      "package_data --> <class '_ast.Dict'> --> {'keys': [<_ast.Str object at 0x7f7eec2b4400>], 'values': [<_ast.List object at 0x7f7eec2b4438>], 'col_offset': 17, 'lineno': 25}\n",
      "install_requires=[{'s': 'six', 'col_offset': 22, 'lineno': 26}, {'s': 'numpy', 'col_offset': 29, 'lineno': 26}]\n",
      "ext_modules --> <class '_ast.Name'> --> {'col_offset': 16, 'ctx': <_ast.Load object at 0x7f7ef5438908>, 'id': 'ext_modules', 'lineno': 27}\n",
      "url=http://github.com/scikit-xray/scikit-xray\n",
      "keywords=Xray Analysis\n",
      "license=BSD\n",
      "classifiers=[{'s': 'Development Status :: 3 - Alpha', 'col_offset': 17, 'lineno': 31}, {'s': 'License :: OSI Approved :: BSD License', 'col_offset': 17, 'lineno': 32}, {'s': 'Programming Language :: Python :: 2.7', 'col_offset': 17, 'lineno': 33}, {'s': 'Programming Language :: Python :: 3.4', 'col_offset': 17, 'lineno': 34}, {'s': 'Topic :: Scientific/Engineering :: Physics', 'col_offset': 17, 'lineno': 35}, {'s': 'Topic :: Scientific/Engineering :: Chemistry', 'col_offset': 17, 'lineno': 36}, {'s': 'Topic :: Software Development :: Libraries', 'col_offset': 17, 'lineno': 37}, {'s': 'Intended Audience :: Science/Research', 'col_offset': 17, 'lineno': 38}, {'s': 'Intended Audience :: Developers', 'col_offset': 17, 'lineno': 39}]\n",
      "requires=[{'s': 'numpy', 'col_offset': 30, 'lineno': 40}]\n"
     ]
    }
   ],
   "source": [
    "for kw in setup_call.value.keywords:\n",
    "    value = kw.value\n",
    "    stringed = ''\n",
    "#     print(value)\n",
    "    if type(value) == ast.Str:\n",
    "        stringed = value.s\n",
    "    elif type(value) == ast.Call:\n",
    "        stringed = value.func.attr + '()'\n",
    "    elif type(value) == ast.List:\n",
    "        stringed = [vars(v) for v in value.elts]\n",
    "    if stringed:\n",
    "        print('%s=%s' % (kw.arg, stringed))\n",
    "    else:\n",
    "        print('%s --> %s --> %s' % (kw.arg, type(value), vars(value)))\n",
    "        "
   ]
  },
  {
   "cell_type": "code",
   "execution_count": null,
   "metadata": {
    "collapsed": true
   },
   "outputs": [],
   "source": []
  }
 ],
 "metadata": {
  "kernelspec": {
   "display_name": "Python 3",
   "language": "python",
   "name": "python3"
  },
  "language_info": {
   "codemirror_mode": {
    "name": "ipython",
    "version": 3
   },
   "file_extension": ".py",
   "mimetype": "text/x-python",
   "name": "python",
   "nbconvert_exporter": "python",
   "pygments_lexer": "ipython3",
   "version": "3.4.3"
  }
 },
 "nbformat": 4,
 "nbformat_minor": 0
}
