{
 "cells": [
  {
   "cell_type": "code",
   "execution_count": 1,
   "metadata": {
    "collapsed": true
   },
   "outputs": [],
   "source": [
    "import ast\n",
    "import os"
   ]
  },
  {
   "cell_type": "code",
   "execution_count": 2,
   "metadata": {
    "collapsed": true
   },
   "outputs": [],
   "source": [
    "from conda_skeletor.setup_parser import SetupScraper"
   ]
  },
  {
   "cell_type": "code",
   "execution_count": 3,
   "metadata": {
    "collapsed": false
   },
   "outputs": [],
   "source": [
    "setup_py = os.path.join(os.path.expanduser('~/dev/conda/conda-skeletor/setup.py'))"
   ]
  },
  {
   "cell_type": "code",
   "execution_count": 4,
   "metadata": {
    "collapsed": false
   },
   "outputs": [],
   "source": [
    "with open(setup_py, 'r') as f:\n",
    "    code = f.read()\n",
    "tree = ast.parse(code)"
   ]
  },
  {
   "cell_type": "code",
   "execution_count": 5,
   "metadata": {
    "collapsed": false,
    "scrolled": true
   },
   "outputs": [
    {
     "name": "stdout",
     "output_type": "stream",
     "text": [
      "name = name, value = {'s': 'conda_skeletor', 'col_offset': 9, 'lineno': 5}\n",
      "name = version, value = {'ctx': <_ast.Load object at 0x7f5b138009e8>, 'id': 'VERSION', 'col_offset': 12, 'lineno': 6}\n",
      "name = author, value = {'s': 'Eric Dill', 'col_offset': 11, 'lineno': 7}\n",
      "name = author_email, value = {'s': 'thedizzle@gmail.com', 'col_offset': 17, 'lineno': 8}\n",
      "name = description, value = {'s': 'Automagically generate conda recipes from your source', 'col_offset': 16, 'lineno': 9}\n",
      "name = url, value = {'s': 'http://github.com/ericdill/conda-skeletor', 'col_offset': 8, 'lineno': 10}\n",
      "name = platforms, value = {'s': 'Cross platform (Linux, Mac OSX, Windows)', 'col_offset': 14, 'lineno': 11}\n",
      "name = license, value = {'s': 'GPLv3', 'col_offset': 12, 'lineno': 12}\n",
      "name = packages, value = {'args': [], 'keywords': [], 'kwargs': None, 'lineno': 14, 'col_offset': 13, 'func': <_ast.Attribute object at 0x7f5b09e54c50>, 'starargs': None}\n",
      "name = package_data, value = {'values': [<_ast.List object at 0x7f5b09e54d68>], 'keys': [<_ast.Str object at 0x7f5b09e54d30>], 'col_offset': 17, 'lineno': 16}\n",
      "name = include_package_data, value = {'value': True, 'col_offset': 25, 'lineno': 17}\n",
      "name = install_requires, value = {'ctx': <_ast.Load object at 0x7f5b138009e8>, 'elts': [<_ast.Str object at 0x7f5b09e54eb8>], 'col_offset': 21, 'lineno': 19}\n",
      "name = entry_points, value = {'values': [<_ast.List object at 0x7f5b09e54f98>], 'keys': [<_ast.Str object at 0x7f5b09e54f60>], 'col_offset': 17, 'lineno': 21}\n"
     ]
    }
   ],
   "source": [
    "scraper = SetupScraper()\n",
    "scraper.visit(tree)"
   ]
  },
  {
   "cell_type": "code",
   "execution_count": 6,
   "metadata": {
    "collapsed": false
   },
   "outputs": [
    {
     "data": {
      "text/plain": [
       "[]"
      ]
     },
     "execution_count": 6,
     "metadata": {},
     "output_type": "execute_result"
    }
   ],
   "source": [
    "scraper.setup_info"
   ]
  },
  {
   "cell_type": "code",
   "execution_count": 7,
   "metadata": {
    "collapsed": false
   },
   "outputs": [
    {
     "data": {
      "text/plain": [
       "<_ast.Call at 0x7fb05f7c92e8>"
      ]
     },
     "execution_count": 7,
     "metadata": {},
     "output_type": "execute_result"
    }
   ],
   "source": [
    "scraper.setup_node"
   ]
  },
  {
   "cell_type": "code",
   "execution_count": 8,
   "metadata": {
    "collapsed": false
   },
   "outputs": [
    {
     "data": {
      "text/plain": [
       "{'args': [],\n",
       " 'col_offset': 0,\n",
       " 'func': <_ast.Name at 0x7fb05f7c9860>,\n",
       " 'keywords': [<_ast.keyword at 0x7fb05f7c9898>,\n",
       "  <_ast.keyword at 0x7fb05f7c9908>,\n",
       "  <_ast.keyword at 0x7fb05f7c9978>,\n",
       "  <_ast.keyword at 0x7fb05f7c99e8>,\n",
       "  <_ast.keyword at 0x7fb05f7c9a58>,\n",
       "  <_ast.keyword at 0x7fb05f7c9ac8>,\n",
       "  <_ast.keyword at 0x7fb05f7c9b38>,\n",
       "  <_ast.keyword at 0x7fb05f7c9ba8>,\n",
       "  <_ast.keyword at 0x7fb05f7c9c18>,\n",
       "  <_ast.keyword at 0x7fb05f7c9cf8>,\n",
       "  <_ast.keyword at 0x7fb05f7c9e10>,\n",
       "  <_ast.keyword at 0x7fb05f7c9e80>,\n",
       "  <_ast.keyword at 0x7fb05f7c9f28>],\n",
       " 'kwargs': None,\n",
       " 'lineno': 4,\n",
       " 'starargs': None}"
      ]
     },
     "execution_count": 8,
     "metadata": {},
     "output_type": "execute_result"
    }
   ],
   "source": [
    "vars(scraper.setup_node)"
   ]
  },
  {
   "cell_type": "code",
   "execution_count": 9,
   "metadata": {
    "collapsed": false
   },
   "outputs": [],
   "source": [
    "setup_func = \"\"\"\n",
    "def setup(*args, **kwargs):\n",
    "    print('args\\\\n----')\n",
    "    for arg in args:\n",
    "        print(arg)\n",
    "    print(\"\\\\nkwargs\\\\n------\")\n",
    "    for kwarg in kwargs:\n",
    "        print(kwargs)\n",
    "    \n",
    "    return(args, kwargs)\n",
    "\"\"\"\n",
    "setup_call= \"\"\"\n",
    "\n",
    "setup('cat', 'dog', frank='person')\n",
    "\"\"\"\n"
   ]
  },
  {
   "cell_type": "code",
   "execution_count": 10,
   "metadata": {
    "collapsed": false
   },
   "outputs": [],
   "source": [
    "setup_func += setup_call"
   ]
  },
  {
   "cell_type": "code",
   "execution_count": 11,
   "metadata": {
    "collapsed": false
   },
   "outputs": [
    {
     "data": {
      "text/plain": [
       "'\\ndef setup(*args, **kwargs):\\n    print(\\'args\\\\n----\\')\\n    for arg in args:\\n        print(arg)\\n    print(\"\\\\nkwargs\\\\n------\")\\n    for kwarg in kwargs:\\n        print(kwargs)\\n    \\n    return(args, kwargs)\\n\\n\\nsetup(\\'cat\\', \\'dog\\', frank=\\'person\\')\\n'"
      ]
     },
     "execution_count": 11,
     "metadata": {},
     "output_type": "execute_result"
    }
   ],
   "source": [
    "setup_func"
   ]
  },
  {
   "cell_type": "code",
   "execution_count": 12,
   "metadata": {
    "collapsed": false
   },
   "outputs": [],
   "source": [
    "tree = ast.parse(setup_func, '<ast>')"
   ]
  },
  {
   "cell_type": "code",
   "execution_count": 10,
   "metadata": {
    "collapsed": false
   },
   "outputs": [],
   "source": [
    "compiled = compile(tree, 'setup.pyc', 'exec')"
   ]
  },
  {
   "cell_type": "code",
   "execution_count": 9,
   "metadata": {
    "collapsed": false
   },
   "outputs": [
    {
     "data": {
      "text/plain": [
       "'setup.py'"
      ]
     },
     "execution_count": 9,
     "metadata": {},
     "output_type": "execute_result"
    }
   ],
   "source": [
    "compiled."
   ]
  },
  {
   "cell_type": "code",
   "execution_count": 6,
   "metadata": {
    "collapsed": false
   },
   "outputs": [
    {
     "name": "stdout",
     "output_type": "stream",
     "text": [
      "build.sh            meta.yaml                   test_regex.ipynb\r\n",
      "conda-skeletor.yml  rewrite-setup-dot-py.ipynb  Untitled.ipynb\r\n"
     ]
    }
   ],
   "source": [
    "ls"
   ]
  },
  {
   "cell_type": "code",
   "execution_count": 14,
   "metadata": {
    "collapsed": false
   },
   "outputs": [
    {
     "ename": "VersioneerBadRootError",
     "evalue": "Versioneer was unable to run the project root directory. Versioneer requires setup.py to be executed from its immediate directory (like 'python setup.py COMMAND'), or in a way that lets it use sys.argv[0] to find the root (like 'python path/to/setup.py COMMAND').",
     "output_type": "error",
     "traceback": [
      "\u001b[1;31m---------------------------------------------------------------------------\u001b[0m",
      "\u001b[1;31mVersioneerBadRootError\u001b[0m                    Traceback (most recent call last)",
      "\u001b[1;32m<ipython-input-14-614b2480e525>\u001b[0m in \u001b[0;36m<module>\u001b[1;34m()\u001b[0m\n\u001b[1;32m----> 1\u001b[1;33m \u001b[1;32mimport\u001b[0m \u001b[0msetup\u001b[0m\u001b[1;33m\u001b[0m\u001b[0m\n\u001b[0m",
      "\u001b[1;32m/home/edill/dev/python/scikit-xray/setup.py\u001b[0m in \u001b[0;36m<module>\u001b[1;34m()\u001b[0m\n\u001b[0;32m     17\u001b[0m setup(\n\u001b[0;32m     18\u001b[0m     \u001b[0mname\u001b[0m\u001b[1;33m=\u001b[0m\u001b[1;34m'scikit-xray'\u001b[0m\u001b[1;33m,\u001b[0m\u001b[1;33m\u001b[0m\u001b[0m\n\u001b[1;32m---> 19\u001b[1;33m     \u001b[0mversion\u001b[0m\u001b[1;33m=\u001b[0m\u001b[0mversioneer\u001b[0m\u001b[1;33m.\u001b[0m\u001b[0mget_version\u001b[0m\u001b[1;33m(\u001b[0m\u001b[1;33m)\u001b[0m\u001b[1;33m,\u001b[0m\u001b[1;33m\u001b[0m\u001b[0m\n\u001b[0m\u001b[0;32m     20\u001b[0m     \u001b[0mcmdclass\u001b[0m\u001b[1;33m=\u001b[0m\u001b[0mversioneer\u001b[0m\u001b[1;33m.\u001b[0m\u001b[0mget_cmdclass\u001b[0m\u001b[1;33m(\u001b[0m\u001b[1;33m)\u001b[0m\u001b[1;33m,\u001b[0m\u001b[1;33m\u001b[0m\u001b[0m\n\u001b[0;32m     21\u001b[0m     \u001b[0mauthor\u001b[0m\u001b[1;33m=\u001b[0m\u001b[1;34m'Brookhaven National Lab'\u001b[0m\u001b[1;33m,\u001b[0m\u001b[1;33m\u001b[0m\u001b[0m\n",
      "\u001b[1;32m/home/edill/dev/python/scikit-xray/versioneer.py\u001b[0m in \u001b[0;36mget_version\u001b[1;34m()\u001b[0m\n\u001b[0;32m   1403\u001b[0m \u001b[1;33m\u001b[0m\u001b[0m\n\u001b[0;32m   1404\u001b[0m \u001b[1;32mdef\u001b[0m \u001b[0mget_version\u001b[0m\u001b[1;33m(\u001b[0m\u001b[1;33m)\u001b[0m\u001b[1;33m:\u001b[0m\u001b[1;33m\u001b[0m\u001b[0m\n\u001b[1;32m-> 1405\u001b[1;33m     \u001b[1;32mreturn\u001b[0m \u001b[0mget_versions\u001b[0m\u001b[1;33m(\u001b[0m\u001b[1;33m)\u001b[0m\u001b[1;33m[\u001b[0m\u001b[1;34m\"version\"\u001b[0m\u001b[1;33m]\u001b[0m\u001b[1;33m\u001b[0m\u001b[0m\n\u001b[0m\u001b[0;32m   1406\u001b[0m \u001b[1;33m\u001b[0m\u001b[0m\n\u001b[0;32m   1407\u001b[0m \u001b[1;33m\u001b[0m\u001b[0m\n",
      "\u001b[1;32m/home/edill/dev/python/scikit-xray/versioneer.py\u001b[0m in \u001b[0;36mget_versions\u001b[1;34m(verbose)\u001b[0m\n\u001b[0;32m   1336\u001b[0m         \u001b[1;32mdel\u001b[0m \u001b[0msys\u001b[0m\u001b[1;33m.\u001b[0m\u001b[0mmodules\u001b[0m\u001b[1;33m[\u001b[0m\u001b[1;34m\"versioneer\"\u001b[0m\u001b[1;33m]\u001b[0m\u001b[1;33m\u001b[0m\u001b[0m\n\u001b[0;32m   1337\u001b[0m \u001b[1;33m\u001b[0m\u001b[0m\n\u001b[1;32m-> 1338\u001b[1;33m     \u001b[0mroot\u001b[0m \u001b[1;33m=\u001b[0m \u001b[0mget_root\u001b[0m\u001b[1;33m(\u001b[0m\u001b[1;33m)\u001b[0m\u001b[1;33m\u001b[0m\u001b[0m\n\u001b[0m\u001b[0;32m   1339\u001b[0m     \u001b[0mcfg\u001b[0m \u001b[1;33m=\u001b[0m \u001b[0mget_config_from_root\u001b[0m\u001b[1;33m(\u001b[0m\u001b[0mroot\u001b[0m\u001b[1;33m)\u001b[0m\u001b[1;33m\u001b[0m\u001b[0m\n\u001b[0;32m   1340\u001b[0m \u001b[1;33m\u001b[0m\u001b[0m\n",
      "\u001b[1;32m/home/edill/dev/python/scikit-xray/versioneer.py\u001b[0m in \u001b[0;36mget_root\u001b[1;34m()\u001b[0m\n\u001b[0;32m    374\u001b[0m                \u001b[1;34m\"or in a way that lets it use sys.argv[0] to find the root \"\u001b[0m\u001b[1;33m\u001b[0m\u001b[0m\n\u001b[0;32m    375\u001b[0m                \"(like 'python path/to/setup.py COMMAND').\")\n\u001b[1;32m--> 376\u001b[1;33m         \u001b[1;32mraise\u001b[0m \u001b[0mVersioneerBadRootError\u001b[0m\u001b[1;33m(\u001b[0m\u001b[0merr\u001b[0m\u001b[1;33m)\u001b[0m\u001b[1;33m\u001b[0m\u001b[0m\n\u001b[0m\u001b[0;32m    377\u001b[0m     \u001b[1;32mtry\u001b[0m\u001b[1;33m:\u001b[0m\u001b[1;33m\u001b[0m\u001b[0m\n\u001b[0;32m    378\u001b[0m         \u001b[1;31m# Certain runtime workflows (setup.py install/develop in a setuptools\u001b[0m\u001b[1;33m\u001b[0m\u001b[1;33m\u001b[0m\u001b[0m\n",
      "\u001b[1;31mVersioneerBadRootError\u001b[0m: Versioneer was unable to run the project root directory. Versioneer requires setup.py to be executed from its immediate directory (like 'python setup.py COMMAND'), or in a way that lets it use sys.argv[0] to find the root (like 'python path/to/setup.py COMMAND')."
     ]
    }
   ],
   "source": [
    "import setup"
   ]
  },
  {
   "cell_type": "code",
   "execution_count": null,
   "metadata": {
    "collapsed": false
   },
   "outputs": [],
   "source": [
    "exec(compiled)"
   ]
  },
  {
   "cell_type": "code",
   "execution_count": null,
   "metadata": {
    "collapsed": true
   },
   "outputs": [],
   "source": [
    "tree = ast.parse(\"print('hello world')\")"
   ]
  },
  {
   "cell_type": "code",
   "execution_count": null,
   "metadata": {
    "collapsed": true
   },
   "outputs": [],
   "source": [
    "ast.k"
   ]
  }
 ],
 "metadata": {
  "kernelspec": {
   "display_name": "Python 3",
   "language": "python",
   "name": "python3"
  },
  "language_info": {
   "codemirror_mode": {
    "name": "ipython",
    "version": 3
   },
   "file_extension": ".py",
   "mimetype": "text/x-python",
   "name": "python",
   "nbconvert_exporter": "python",
   "pygments_lexer": "ipython3",
   "version": "3.4.3"
  }
 },
 "nbformat": 4,
 "nbformat_minor": 0
}
