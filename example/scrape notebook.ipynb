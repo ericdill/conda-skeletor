{
 "cells": [
  {
   "cell_type": "code",
   "execution_count": 1,
   "metadata": {
    "collapsed": false
   },
   "outputs": [
    {
     "name": "stdout",
     "output_type": "stream",
     "text": [
      "build.sh                    meta.yaml                   test_regex.ipynb\r\n",
      "conda-skeletor.yml          rewrite-setup-dot-py.ipynb  Untitled.ipynb\r\n",
      "find_imports_to_test.ipynb  scrape notebook.ipynb\r\n"
     ]
    }
   ],
   "source": [
    "ls"
   ]
  },
  {
   "cell_type": "code",
   "execution_count": 2,
   "metadata": {
    "collapsed": true
   },
   "outputs": [],
   "source": [
    "import json"
   ]
  },
  {
   "cell_type": "code",
   "execution_count": null,
   "metadata": {
    "collapsed": true
   },
   "outputs": [],
   "source": [
    "json."
   ]
  },
  {
   "cell_type": "code",
   "execution_count": 4,
   "metadata": {
    "collapsed": false
   },
   "outputs": [],
   "source": [
    "nb = json.load(open('find_imports_to_test.ipynb'))"
   ]
  },
  {
   "cell_type": "code",
   "execution_count": 5,
   "metadata": {
    "collapsed": false
   },
   "outputs": [
    {
     "data": {
      "text/plain": [
       "{'cells': [{'cell_type': 'code',\n",
       "   'execution_count': 1,\n",
       "   'metadata': {'collapsed': False},\n",
       "   'outputs': [{'name': 'stderr',\n",
       "     'output_type': 'stream',\n",
       "     'text': ['The module located at /home/edill/miniconda/lib/python3.4/site-packages/whatsmyversion-0.0.4.post10-py3.4.egg/whatsmyversion.py does not have a git repo in its directory hierarchy\\n',\n",
       "      'INFO:whatsmyversion:The module located at /home/edill/miniconda/lib/python3.4/site-packages/whatsmyversion-0.0.4.post10-py3.4.egg/whatsmyversion.py does not have a git repo in its directory hierarchy\\n',\n",
       "      'path = /home/edill/miniconda/lib/python3.4/site-packages/whatsmyversion-0.0.4.post10-py3.4.egg/whatsmyversion.py\\n',\n",
       "      'DEBUG:whatsmyversion:path = /home/edill/miniconda/lib/python3.4/site-packages/whatsmyversion-0.0.4.post10-py3.4.egg/whatsmyversion.py\\n',\n",
       "      \"split_path = ['', 'home', 'edill', 'miniconda', 'lib', 'python3.4', 'site-packages', 'whatsmyversion-0.0.4.post10-py3.4.egg', 'whatsmyversion.py']\\n\",\n",
       "      \"DEBUG:whatsmyversion:split_path = ['', 'home', 'edill', 'miniconda', 'lib', 'python3.4', 'site-packages', 'whatsmyversion-0.0.4.post10-py3.4.egg', 'whatsmyversion.py']\\n\",\n",
       "      'version_info_folder = whatsmyversion-0.0.4.post10-py3.4.egg\\n',\n",
       "      'DEBUG:whatsmyversion:version_info_folder = whatsmyversion-0.0.4.post10-py3.4.egg\\n',\n",
       "      \"split_version_info = ['whatsmyversion', '0.0.4.post10', 'py3.4.egg']\\n\",\n",
       "      \"DEBUG:whatsmyversion:split_version_info = ['whatsmyversion', '0.0.4.post10', 'py3.4.egg']\\n\"]}],\n",
       "   'source': ['from conda_skeletor.main import split_deps, get_runtime_deps, construct_template_info, package_mapping\\n',\n",
       "    'from conda_skeletor import setup_parser\\n',\n",
       "    'import depfinder\\n',\n",
       "    'import os\\n',\n",
       "    'import yaml\\n',\n",
       "    'import re\\n',\n",
       "    'import pandas as pd']},\n",
       "  {'cell_type': 'code',\n",
       "   'execution_count': 2,\n",
       "   'metadata': {'collapsed': False},\n",
       "   'outputs': [],\n",
       "   'source': ['# Function coped from main() --> conda-skeletor.main:main\\n',\n",
       "    'def find_imports(path_to_source):\\n',\n",
       "    '    # find the dependencies for all modules in the source directory\\n',\n",
       "    '    repo_deps = depfinder.iterate_over_library(path_to_source)\\n',\n",
       "    '\\n',\n",
       "    '    # Compile the regexers listed in the conda-skeleton.yml\\n',\n",
       "    \"    test_regexers = [re.compile(reg) for reg in skeletor_config.get('test_regex', [])]\\n\",\n",
       "    \"    ignore_path_regexers = [re.compile(reg) for reg in skeletor_config.get('ignore_path_regex', [])]\\n\",\n",
       "    \"    include_path_regexers = [re.compile(reg) for reg in skeletor_config.get('include_path_regex', [])]\\n\",\n",
       "    '    ignored, without_ignored = split_deps(repo_deps, ignore_path_regexers)\\n',\n",
       "    '    included, without_included = split_deps(without_ignored, include_path_regexers)\\n',\n",
       "    '    tests, without_tests = split_deps(included, test_regexers)\\n',\n",
       "    '    \\n',\n",
       "    '    return tests, without_tests']},\n",
       "  {'cell_type': 'code',\n",
       "   'execution_count': 3,\n",
       "   'metadata': {'collapsed': False},\n",
       "   'outputs': [],\n",
       "   'source': [\"skeletor_config = yaml.load(open('conda-skeletor.yml', 'r'))\"]},\n",
       "  {'cell_type': 'code',\n",
       "   'execution_count': 4,\n",
       "   'metadata': {'collapsed': False},\n",
       "   'outputs': [{'data': {'text/plain': [\"{'blacklist_packages': ['setupext',\\n\",\n",
       "       \"  'versioneer',\\n\",\n",
       "       \"  'ctrans',\\n\",\n",
       "       \"  'skxray',\\n\",\n",
       "       \"  'src',\\n\",\n",
       "       \"  'netCDF4',\\n\",\n",
       "       \"  'pyFAI'],\\n\",\n",
       "       \" 'ignore_path_regex': ['.*(doc).*', '.*(examples).*', '.*(versioneer).*'],\\n\",\n",
       "       \" 'include_path_regex': ['.*(skxray).*'],\\n\",\n",
       "       \" 'test_regex': ['.*(test).*']}\"]},\n",
       "     'execution_count': 4,\n",
       "     'metadata': {},\n",
       "     'output_type': 'execute_result'}],\n",
       "   'source': ['skeletor_config']},\n",
       "  {'cell_type': 'code',\n",
       "   'execution_count': 5,\n",
       "   'metadata': {'collapsed': False},\n",
       "   'outputs': [],\n",
       "   'source': [\"path_to_source = os.path.join(os.path.expanduser('~/dev/python/scikit-xray'))\"]},\n",
       "  {'cell_type': 'code',\n",
       "   'execution_count': 6,\n",
       "   'metadata': {'collapsed': False},\n",
       "   'outputs': [{'name': 'stdout',\n",
       "     'output_type': 'stream',\n",
       "     'text': ['...................................................................................']}],\n",
       "   'source': ['test, without_test = find_imports(path_to_source)']},\n",
       "  {'cell_type': 'code',\n",
       "   'execution_count': 57,\n",
       "   'metadata': {'collapsed': False},\n",
       "   'outputs': [],\n",
       "   'source': ['def find_lib_name(without_test):\\n',\n",
       "    '    non_test_paths = [full_path for mod_name, full_path, catcher in without_test]\\n',\n",
       "    '    common_path = os.path.commonprefix(non_test_paths)\\n',\n",
       "    '    return common_path.strip(os.sep).split(os.sep)[-1]\\n',\n",
       "    '#     non_test_paths = [path.split(os.sep) for path in non_test_paths]\\n',\n",
       "    '#     df = pd.DataFrame(non_test_paths)\\n',\n",
       "    '#     prev_col_name = None\\n',\n",
       "    '#     equivalent = True\\n',\n",
       "    '#     for col_name in df:\\n',\n",
       "    '#         equivalent = not any([val != df[col_name][0] for val in df[col_name]])\\n',\n",
       "    '#         if not equivalent:\\n',\n",
       "    '#             break\\n',\n",
       "    '#         prev_col_name = col_name\\n',\n",
       "    '#     return df[prev_col_name][0]']},\n",
       "  {'cell_type': 'code',\n",
       "   'execution_count': 58,\n",
       "   'metadata': {'collapsed': False},\n",
       "   'outputs': [],\n",
       "   'source': ['lib_name = find_lib_name(without_test)']},\n",
       "  {'cell_type': 'code',\n",
       "   'execution_count': 59,\n",
       "   'metadata': {'collapsed': False},\n",
       "   'outputs': [{'data': {'text/plain': [\"'skxray'\"]},\n",
       "     'execution_count': 59,\n",
       "     'metadata': {},\n",
       "     'output_type': 'execute_result'}],\n",
       "   'source': ['lib_name']},\n",
       "  {'cell_type': 'code',\n",
       "   'execution_count': 89,\n",
       "   'metadata': {'collapsed': False},\n",
       "   'outputs': [{'data': {'text/plain': ['6']},\n",
       "     'execution_count': 89,\n",
       "     'metadata': {},\n",
       "     'output_type': 'execute_result'}],\n",
       "   'source': ['prev_col_name']},\n",
       "  {'cell_type': 'code',\n",
       "   'execution_count': 10,\n",
       "   'metadata': {'collapsed': False},\n",
       "   'outputs': [],\n",
       "   'source': ['path = without_test[0][1]']},\n",
       "  {'cell_type': 'code',\n",
       "   'execution_count': 39,\n",
       "   'metadata': {'collapsed': False},\n",
       "   'outputs': [{'data': {'text/plain': [\"'__init__'\"]},\n",
       "     'execution_count': 39,\n",
       "     'metadata': {},\n",
       "     'output_type': 'execute_result'}],\n",
       "   'source': ['lib_name']},\n",
       "  {'cell_type': 'code',\n",
       "   'execution_count': 45,\n",
       "   'metadata': {'collapsed': False},\n",
       "   'outputs': [],\n",
       "   'source': ['def into_importable(full_module_path, lib_name):\\n',\n",
       "    '    relative_module_path = full_module_path.split(lib_name, maxsplit=1)[1]\\n',\n",
       "    \"    # trim the '.py'\\n\",\n",
       "    '    relative_module_path = relative_module_path[:-3]\\n',\n",
       "    '    # add the library name back in\\n',\n",
       "    '    relative_module_path = lib_name + relative_module_path\\n',\n",
       "    \"    importable_path = '.'.join(relative_module_path.split(os.sep))\\n\",\n",
       "    \"    # turn imports from 'foo.bar.baz.__init__' into 'foo.bar.baz'\\n\",\n",
       "    \"    if importable_path.endswith('__init__'):\\n\",\n",
       "    '        importable_path = importable_path[:-9]\\n',\n",
       "    '    # turn the string from path/to/module to path.to.module\\n',\n",
       "    '    return importable_path']},\n",
       "  {'cell_type': 'code',\n",
       "   'execution_count': 47,\n",
       "   'metadata': {'collapsed': False},\n",
       "   'outputs': [],\n",
       "   'source': ['all_imports = [into_importable(path_to_module, lib_name) for mod_name, path_to_module, catcher in without_test]']},\n",
       "  {'cell_type': 'code',\n",
       "   'execution_count': 25,\n",
       "   'metadata': {'collapsed': False},\n",
       "   'outputs': [{'data': {'text/plain': [\"'skxray.fluorescence'\"]},\n",
       "     'execution_count': 25,\n",
       "     'metadata': {},\n",
       "     'output_type': 'execute_result'}],\n",
       "   'source': []},\n",
       "  {'cell_type': 'code',\n",
       "   'execution_count': 50,\n",
       "   'metadata': {'collapsed': False},\n",
       "   'outputs': [{'ename': 'NameError',\n",
       "     'evalue': \"name 'df' is not defined\",\n",
       "     'output_type': 'error',\n",
       "     'traceback': ['\\x1b[1;31m---------------------------------------------------------------------------\\x1b[0m',\n",
       "      '\\x1b[1;31mNameError\\x1b[0m                                 Traceback (most recent call last)',\n",
       "      '\\x1b[1;32m<ipython-input-50-7ed0097d7e9e>\\x1b[0m in \\x1b[0;36m<module>\\x1b[1;34m()\\x1b[0m\\n\\x1b[1;32m----> 1\\x1b[1;33m \\x1b[0mdf\\x1b[0m\\x1b[1;33m\\x1b[0m\\x1b[0m\\n\\x1b[0m',\n",
       "      \"\\x1b[1;31mNameError\\x1b[0m: name 'df' is not defined\"]}],\n",
       "   'source': ['df']},\n",
       "  {'cell_type': 'code',\n",
       "   'execution_count': None,\n",
       "   'metadata': {'collapsed': True},\n",
       "   'outputs': [],\n",
       "   'source': []}],\n",
       " 'metadata': {'kernelspec': {'display_name': 'Python 3',\n",
       "   'language': 'python',\n",
       "   'name': 'python3'},\n",
       "  'language_info': {'codemirror_mode': {'name': 'ipython', 'version': 3},\n",
       "   'file_extension': '.py',\n",
       "   'mimetype': 'text/x-python',\n",
       "   'name': 'python',\n",
       "   'nbconvert_exporter': 'python',\n",
       "   'pygments_lexer': 'ipython3',\n",
       "   'version': '3.4.3'}},\n",
       " 'nbformat': 4,\n",
       " 'nbformat_minor': 0}"
      ]
     },
     "execution_count": 5,
     "metadata": {},
     "output_type": "execute_result"
    }
   ],
   "source": [
    "nb"
   ]
  },
  {
   "cell_type": "code",
   "execution_count": 8,
   "metadata": {
    "collapsed": false
   },
   "outputs": [
    {
     "data": {
      "text/plain": [
       "[{'cell_type': 'code',\n",
       "  'execution_count': 1,\n",
       "  'metadata': {'collapsed': False},\n",
       "  'outputs': [{'name': 'stderr',\n",
       "    'output_type': 'stream',\n",
       "    'text': ['The module located at /home/edill/miniconda/lib/python3.4/site-packages/whatsmyversion-0.0.4.post10-py3.4.egg/whatsmyversion.py does not have a git repo in its directory hierarchy\\n',\n",
       "     'INFO:whatsmyversion:The module located at /home/edill/miniconda/lib/python3.4/site-packages/whatsmyversion-0.0.4.post10-py3.4.egg/whatsmyversion.py does not have a git repo in its directory hierarchy\\n',\n",
       "     'path = /home/edill/miniconda/lib/python3.4/site-packages/whatsmyversion-0.0.4.post10-py3.4.egg/whatsmyversion.py\\n',\n",
       "     'DEBUG:whatsmyversion:path = /home/edill/miniconda/lib/python3.4/site-packages/whatsmyversion-0.0.4.post10-py3.4.egg/whatsmyversion.py\\n',\n",
       "     \"split_path = ['', 'home', 'edill', 'miniconda', 'lib', 'python3.4', 'site-packages', 'whatsmyversion-0.0.4.post10-py3.4.egg', 'whatsmyversion.py']\\n\",\n",
       "     \"DEBUG:whatsmyversion:split_path = ['', 'home', 'edill', 'miniconda', 'lib', 'python3.4', 'site-packages', 'whatsmyversion-0.0.4.post10-py3.4.egg', 'whatsmyversion.py']\\n\",\n",
       "     'version_info_folder = whatsmyversion-0.0.4.post10-py3.4.egg\\n',\n",
       "     'DEBUG:whatsmyversion:version_info_folder = whatsmyversion-0.0.4.post10-py3.4.egg\\n',\n",
       "     \"split_version_info = ['whatsmyversion', '0.0.4.post10', 'py3.4.egg']\\n\",\n",
       "     \"DEBUG:whatsmyversion:split_version_info = ['whatsmyversion', '0.0.4.post10', 'py3.4.egg']\\n\"]}],\n",
       "  'source': ['from conda_skeletor.main import split_deps, get_runtime_deps, construct_template_info, package_mapping\\n',\n",
       "   'from conda_skeletor import setup_parser\\n',\n",
       "   'import depfinder\\n',\n",
       "   'import os\\n',\n",
       "   'import yaml\\n',\n",
       "   'import re\\n',\n",
       "   'import pandas as pd']},\n",
       " {'cell_type': 'code',\n",
       "  'execution_count': 2,\n",
       "  'metadata': {'collapsed': False},\n",
       "  'outputs': [],\n",
       "  'source': ['# Function coped from main() --> conda-skeletor.main:main\\n',\n",
       "   'def find_imports(path_to_source):\\n',\n",
       "   '    # find the dependencies for all modules in the source directory\\n',\n",
       "   '    repo_deps = depfinder.iterate_over_library(path_to_source)\\n',\n",
       "   '\\n',\n",
       "   '    # Compile the regexers listed in the conda-skeleton.yml\\n',\n",
       "   \"    test_regexers = [re.compile(reg) for reg in skeletor_config.get('test_regex', [])]\\n\",\n",
       "   \"    ignore_path_regexers = [re.compile(reg) for reg in skeletor_config.get('ignore_path_regex', [])]\\n\",\n",
       "   \"    include_path_regexers = [re.compile(reg) for reg in skeletor_config.get('include_path_regex', [])]\\n\",\n",
       "   '    ignored, without_ignored = split_deps(repo_deps, ignore_path_regexers)\\n',\n",
       "   '    included, without_included = split_deps(without_ignored, include_path_regexers)\\n',\n",
       "   '    tests, without_tests = split_deps(included, test_regexers)\\n',\n",
       "   '    \\n',\n",
       "   '    return tests, without_tests']},\n",
       " {'cell_type': 'code',\n",
       "  'execution_count': 3,\n",
       "  'metadata': {'collapsed': False},\n",
       "  'outputs': [],\n",
       "  'source': [\"skeletor_config = yaml.load(open('conda-skeletor.yml', 'r'))\"]},\n",
       " {'cell_type': 'code',\n",
       "  'execution_count': 4,\n",
       "  'metadata': {'collapsed': False},\n",
       "  'outputs': [{'data': {'text/plain': [\"{'blacklist_packages': ['setupext',\\n\",\n",
       "      \"  'versioneer',\\n\",\n",
       "      \"  'ctrans',\\n\",\n",
       "      \"  'skxray',\\n\",\n",
       "      \"  'src',\\n\",\n",
       "      \"  'netCDF4',\\n\",\n",
       "      \"  'pyFAI'],\\n\",\n",
       "      \" 'ignore_path_regex': ['.*(doc).*', '.*(examples).*', '.*(versioneer).*'],\\n\",\n",
       "      \" 'include_path_regex': ['.*(skxray).*'],\\n\",\n",
       "      \" 'test_regex': ['.*(test).*']}\"]},\n",
       "    'execution_count': 4,\n",
       "    'metadata': {},\n",
       "    'output_type': 'execute_result'}],\n",
       "  'source': ['skeletor_config']},\n",
       " {'cell_type': 'code',\n",
       "  'execution_count': 5,\n",
       "  'metadata': {'collapsed': False},\n",
       "  'outputs': [],\n",
       "  'source': [\"path_to_source = os.path.join(os.path.expanduser('~/dev/python/scikit-xray'))\"]},\n",
       " {'cell_type': 'code',\n",
       "  'execution_count': 6,\n",
       "  'metadata': {'collapsed': False},\n",
       "  'outputs': [{'name': 'stdout',\n",
       "    'output_type': 'stream',\n",
       "    'text': ['...................................................................................']}],\n",
       "  'source': ['test, without_test = find_imports(path_to_source)']},\n",
       " {'cell_type': 'code',\n",
       "  'execution_count': 57,\n",
       "  'metadata': {'collapsed': False},\n",
       "  'outputs': [],\n",
       "  'source': ['def find_lib_name(without_test):\\n',\n",
       "   '    non_test_paths = [full_path for mod_name, full_path, catcher in without_test]\\n',\n",
       "   '    common_path = os.path.commonprefix(non_test_paths)\\n',\n",
       "   '    return common_path.strip(os.sep).split(os.sep)[-1]\\n',\n",
       "   '#     non_test_paths = [path.split(os.sep) for path in non_test_paths]\\n',\n",
       "   '#     df = pd.DataFrame(non_test_paths)\\n',\n",
       "   '#     prev_col_name = None\\n',\n",
       "   '#     equivalent = True\\n',\n",
       "   '#     for col_name in df:\\n',\n",
       "   '#         equivalent = not any([val != df[col_name][0] for val in df[col_name]])\\n',\n",
       "   '#         if not equivalent:\\n',\n",
       "   '#             break\\n',\n",
       "   '#         prev_col_name = col_name\\n',\n",
       "   '#     return df[prev_col_name][0]']},\n",
       " {'cell_type': 'code',\n",
       "  'execution_count': 58,\n",
       "  'metadata': {'collapsed': False},\n",
       "  'outputs': [],\n",
       "  'source': ['lib_name = find_lib_name(without_test)']},\n",
       " {'cell_type': 'code',\n",
       "  'execution_count': 59,\n",
       "  'metadata': {'collapsed': False},\n",
       "  'outputs': [{'data': {'text/plain': [\"'skxray'\"]},\n",
       "    'execution_count': 59,\n",
       "    'metadata': {},\n",
       "    'output_type': 'execute_result'}],\n",
       "  'source': ['lib_name']},\n",
       " {'cell_type': 'code',\n",
       "  'execution_count': 89,\n",
       "  'metadata': {'collapsed': False},\n",
       "  'outputs': [{'data': {'text/plain': ['6']},\n",
       "    'execution_count': 89,\n",
       "    'metadata': {},\n",
       "    'output_type': 'execute_result'}],\n",
       "  'source': ['prev_col_name']},\n",
       " {'cell_type': 'code',\n",
       "  'execution_count': 10,\n",
       "  'metadata': {'collapsed': False},\n",
       "  'outputs': [],\n",
       "  'source': ['path = without_test[0][1]']},\n",
       " {'cell_type': 'code',\n",
       "  'execution_count': 39,\n",
       "  'metadata': {'collapsed': False},\n",
       "  'outputs': [{'data': {'text/plain': [\"'__init__'\"]},\n",
       "    'execution_count': 39,\n",
       "    'metadata': {},\n",
       "    'output_type': 'execute_result'}],\n",
       "  'source': ['lib_name']},\n",
       " {'cell_type': 'code',\n",
       "  'execution_count': 45,\n",
       "  'metadata': {'collapsed': False},\n",
       "  'outputs': [],\n",
       "  'source': ['def into_importable(full_module_path, lib_name):\\n',\n",
       "   '    relative_module_path = full_module_path.split(lib_name, maxsplit=1)[1]\\n',\n",
       "   \"    # trim the '.py'\\n\",\n",
       "   '    relative_module_path = relative_module_path[:-3]\\n',\n",
       "   '    # add the library name back in\\n',\n",
       "   '    relative_module_path = lib_name + relative_module_path\\n',\n",
       "   \"    importable_path = '.'.join(relative_module_path.split(os.sep))\\n\",\n",
       "   \"    # turn imports from 'foo.bar.baz.__init__' into 'foo.bar.baz'\\n\",\n",
       "   \"    if importable_path.endswith('__init__'):\\n\",\n",
       "   '        importable_path = importable_path[:-9]\\n',\n",
       "   '    # turn the string from path/to/module to path.to.module\\n',\n",
       "   '    return importable_path']},\n",
       " {'cell_type': 'code',\n",
       "  'execution_count': 47,\n",
       "  'metadata': {'collapsed': False},\n",
       "  'outputs': [],\n",
       "  'source': ['all_imports = [into_importable(path_to_module, lib_name) for mod_name, path_to_module, catcher in without_test]']},\n",
       " {'cell_type': 'code',\n",
       "  'execution_count': 25,\n",
       "  'metadata': {'collapsed': False},\n",
       "  'outputs': [{'data': {'text/plain': [\"'skxray.fluorescence'\"]},\n",
       "    'execution_count': 25,\n",
       "    'metadata': {},\n",
       "    'output_type': 'execute_result'}],\n",
       "  'source': []},\n",
       " {'cell_type': 'code',\n",
       "  'execution_count': 50,\n",
       "  'metadata': {'collapsed': False},\n",
       "  'outputs': [{'ename': 'NameError',\n",
       "    'evalue': \"name 'df' is not defined\",\n",
       "    'output_type': 'error',\n",
       "    'traceback': ['\\x1b[1;31m---------------------------------------------------------------------------\\x1b[0m',\n",
       "     '\\x1b[1;31mNameError\\x1b[0m                                 Traceback (most recent call last)',\n",
       "     '\\x1b[1;32m<ipython-input-50-7ed0097d7e9e>\\x1b[0m in \\x1b[0;36m<module>\\x1b[1;34m()\\x1b[0m\\n\\x1b[1;32m----> 1\\x1b[1;33m \\x1b[0mdf\\x1b[0m\\x1b[1;33m\\x1b[0m\\x1b[0m\\n\\x1b[0m',\n",
       "     \"\\x1b[1;31mNameError\\x1b[0m: name 'df' is not defined\"]}],\n",
       "  'source': ['df']},\n",
       " {'cell_type': 'code',\n",
       "  'execution_count': None,\n",
       "  'metadata': {'collapsed': True},\n",
       "  'outputs': [],\n",
       "  'source': []}]"
      ]
     },
     "execution_count": 8,
     "metadata": {},
     "output_type": "execute_result"
    }
   ],
   "source": [
    "nb['cells']"
   ]
  },
  {
   "cell_type": "code",
   "execution_count": 12,
   "metadata": {
    "collapsed": false
   },
   "outputs": [],
   "source": [
    "code = [''.join(cell['source']) for cell in nb['cells'] if cell['cell_type'] == 'code']"
   ]
  },
  {
   "cell_type": "code",
   "execution_count": 14,
   "metadata": {
    "collapsed": false
   },
   "outputs": [
    {
     "data": {
      "text/plain": [
       "17"
      ]
     },
     "execution_count": 14,
     "metadata": {},
     "output_type": "execute_result"
    }
   ],
   "source": [
    "len(code)"
   ]
  },
  {
   "cell_type": "code",
   "execution_count": 16,
   "metadata": {
    "collapsed": false
   },
   "outputs": [
    {
     "name": "stdout",
     "output_type": "stream",
     "text": [
      "from conda_skeletor.main import split_deps, get_runtime_deps, construct_template_info, package_mapping\n",
      "from conda_skeletor import setup_parser\n",
      "import depfinder\n",
      "import os\n",
      "import yaml\n",
      "import re\n",
      "import pandas as pd\n"
     ]
    }
   ],
   "source": [
    "print(code[0])"
   ]
  },
  {
   "cell_type": "code",
   "execution_count": 1,
   "metadata": {
    "collapsed": true
   },
   "outputs": [],
   "source": [
    "import depfinder"
   ]
  },
  {
   "cell_type": "code",
   "execution_count": 2,
   "metadata": {
    "collapsed": false
   },
   "outputs": [
    {
     "data": {
      "text/plain": [
       "defaultdict(set,\n",
       "            {'builtin': {'os', 're'},\n",
       "             'required': {'conda_skeletor', 'depfinder', 'pandas', 'yaml'}})"
      ]
     },
     "execution_count": 2,
     "metadata": {},
     "output_type": "execute_result"
    }
   ],
   "source": [
    "depfinder.notebook_path_to_dependencies('find_imports_to_test.ipynb')"
   ]
  },
  {
   "cell_type": "code",
   "execution_count": 3,
   "metadata": {
    "collapsed": true
   },
   "outputs": [],
   "source": [
    "import stdlib_list"
   ]
  },
  {
   "cell_type": "code",
   "execution_count": 8,
   "metadata": {
    "collapsed": true
   },
   "outputs": [],
   "source": [
    "from stdlib_list import fetch"
   ]
  },
  {
   "cell_type": "code",
   "execution_count": 9,
   "metadata": {
    "collapsed": false
   },
   "outputs": [],
   "source": [
    "fetch??"
   ]
  },
  {
   "cell_type": "code",
   "execution_count": null,
   "metadata": {
    "collapsed": true
   },
   "outputs": [],
   "source": []
  }
 ],
 "metadata": {
  "kernelspec": {
   "display_name": "Python 3",
   "language": "python",
   "name": "python3"
  },
  "language_info": {
   "codemirror_mode": {
    "name": "ipython",
    "version": 3
   },
   "file_extension": ".py",
   "mimetype": "text/x-python",
   "name": "python",
   "nbconvert_exporter": "python",
   "pygments_lexer": "ipython3",
   "version": "3.4.3"
  }
 },
 "nbformat": 4,
 "nbformat_minor": 0
}
