{
 "cells": [
  {
   "cell_type": "code",
   "execution_count": 119,
   "metadata": {
    "collapsed": true
   },
   "outputs": [],
   "source": [
    "import re\n",
    "import depfinder\n",
    "import yaml\n",
    "import _sre"
   ]
  },
  {
   "cell_type": "code",
   "execution_count": 120,
   "metadata": {
    "collapsed": false
   },
   "outputs": [],
   "source": [
    "config = yaml.load(open('conda-skeletor.yml', 'r'))"
   ]
  },
  {
   "cell_type": "code",
   "execution_count": 125,
   "metadata": {
    "collapsed": false
   },
   "outputs": [],
   "source": [
    "test_regexers = [re.compile(reg) for reg in config['test_regex']]\n",
    "ignore_path_regexers = [re.compile(reg) for reg in config['ignore_path_regex']]\n",
    "include_path_regexers = [re.compile(reg) for reg in config['include_path_regex']]\n",
    "extra_setup_files_regexers = [re.compile(reg) for reg in config['extra_setup_files_regex']]"
   ]
  },
  {
   "cell_type": "code",
   "execution_count": 126,
   "metadata": {
    "collapsed": false
   },
   "outputs": [
    {
     "name": "stdout",
     "output_type": "stream",
     "text": [
      "..................................................................................."
     ]
    }
   ],
   "source": [
    "skxray_deps = list(depfinder.iterate_over_library('/home/edill/dev/python/scikit-xray'))"
   ]
  },
  {
   "cell_type": "code",
   "execution_count": 129,
   "metadata": {
    "collapsed": false
   },
   "outputs": [
    {
     "data": {
      "text/plain": [
       "('setupext',\n",
       " '/home/edill/dev/python/scikit-xray/setupext.py',\n",
       " ImportCatcher: {'builtin': {'sys', 'distutils', 'copy', 'os'}, 'required': {'numpy', 'six'}})"
      ]
     },
     "execution_count": 129,
     "metadata": {},
     "output_type": "execute_result"
    }
   ],
   "source": [
    "skxray_deps[2]"
   ]
  },
  {
   "cell_type": "code",
   "execution_count": 89,
   "metadata": {
    "collapsed": true
   },
   "outputs": [],
   "source": [
    "def _regex_tester(test_string, regexers):\n",
    "    \"\"\"Helper function to test a string against an iterable of regexers\"\"\"\n",
    "    matched = False\n",
    "    for regex in regexers:\n",
    "        if regex.__class__.__name__ == 'SRE_Pattern':\n",
    "            matched = regex.match(test_string) is not None\n",
    "        else:\n",
    "            matched = regex in test_string\n",
    "        if matched:\n",
    "            break\n",
    "    return matched"
   ]
  },
  {
   "cell_type": "code",
   "execution_count": 92,
   "metadata": {
    "collapsed": true
   },
   "outputs": [],
   "source": [
    "def split_deps(iterable_of_deps_tuples, iterable_of_regexers):\n",
    "    good = []\n",
    "    bad = []\n",
    "    for mod, mod_path, catcher in iterable_of_deps_tuples:\n",
    "        # try the module name first\n",
    "        mod_match = _regex_tester(mod, iterable_of_regexers)\n",
    "        if not mod_match:\n",
    "            # if the module name did not match, try the full path\n",
    "            mod_match = _regex_tester(mod_path, iterable_of_regexers)\n",
    "        if mod_match:\n",
    "            good.append((mod, mod_path, catcher))\n",
    "            mod_match = False\n",
    "        else:\n",
    "            bad.append((mod, mod_path, catcher))\n",
    "    \n",
    "    return good, bad"
   ]
  },
  {
   "cell_type": "code",
   "execution_count": 114,
   "metadata": {
    "collapsed": true
   },
   "outputs": [],
   "source": [
    "ignored, without_ignored = split_deps(skxray_deps, ignore_path_regexers)\n",
    "included, without_included = split_deps(without_ignored, include_path_regexers)\n",
    "tests, without_tests = split_deps(included, test_regexers)"
   ]
  },
  {
   "cell_type": "code",
   "execution_count": 116,
   "metadata": {
    "collapsed": false
   },
   "outputs": [
    {
     "name": "stdout",
     "output_type": "stream",
     "text": [
      "/home/edill/dev/python/scikit-xray/skxray/fluorescence.py\n",
      "/home/edill/dev/python/scikit-xray/skxray/diffraction.py\n",
      "/home/edill/dev/python/scikit-xray/skxray/_version.py\n",
      "/home/edill/dev/python/scikit-xray/skxray/__init__.py\n",
      "/home/edill/dev/python/scikit-xray/skxray/io/save_powder_output.py\n",
      "/home/edill/dev/python/scikit-xray/skxray/io/binary.py\n",
      "/home/edill/dev/python/scikit-xray/skxray/io/net_cdf_io.py\n",
      "/home/edill/dev/python/scikit-xray/skxray/io/avizo_io.py\n",
      "/home/edill/dev/python/scikit-xray/skxray/io/gsas_file_reader.py\n",
      "/home/edill/dev/python/scikit-xray/skxray/io/__init__.py\n",
      "/home/edill/dev/python/scikit-xray/skxray/core/dpc.py\n",
      "/home/edill/dev/python/scikit-xray/skxray/core/recip.py\n",
      "/home/edill/dev/python/scikit-xray/skxray/core/speckle.py\n",
      "/home/edill/dev/python/scikit-xray/skxray/core/stats.py\n",
      "/home/edill/dev/python/scikit-xray/skxray/core/spectroscopy.py\n",
      "/home/edill/dev/python/scikit-xray/skxray/core/arithmetic.py\n",
      "/home/edill/dev/python/scikit-xray/skxray/core/correlation.py\n",
      "/home/edill/dev/python/scikit-xray/skxray/core/roi.py\n",
      "/home/edill/dev/python/scikit-xray/skxray/core/cdi.py\n",
      "/home/edill/dev/python/scikit-xray/skxray/core/feature.py\n",
      "/home/edill/dev/python/scikit-xray/skxray/core/utils.py\n",
      "/home/edill/dev/python/scikit-xray/skxray/core/calibration.py\n",
      "/home/edill/dev/python/scikit-xray/skxray/core/image.py\n",
      "/home/edill/dev/python/scikit-xray/skxray/core/__init__.py\n",
      "/home/edill/dev/python/scikit-xray/skxray/core/constants/xrs.py\n",
      "/home/edill/dev/python/scikit-xray/skxray/core/constants/basic.py\n",
      "/home/edill/dev/python/scikit-xray/skxray/core/constants/xrf.py\n",
      "/home/edill/dev/python/scikit-xray/skxray/core/constants/__init__.py\n",
      "/home/edill/dev/python/scikit-xray/skxray/core/fitting/models.py\n",
      "/home/edill/dev/python/scikit-xray/skxray/core/fitting/funcs.py\n",
      "/home/edill/dev/python/scikit-xray/skxray/core/fitting/xrf_model.py\n",
      "/home/edill/dev/python/scikit-xray/skxray/core/fitting/lineshapes.py\n",
      "/home/edill/dev/python/scikit-xray/skxray/core/fitting/background.py\n",
      "/home/edill/dev/python/scikit-xray/skxray/core/fitting/__init__.py\n",
      "/home/edill/dev/python/scikit-xray/skxray/core/fitting/base/parameter_data.py\n",
      "/home/edill/dev/python/scikit-xray/skxray/core/fitting/base/__init__.py\n"
     ]
    }
   ],
   "source": [
    "for mod, path, catcher in without_tests:\n",
    "    print(path)"
   ]
  },
  {
   "cell_type": "code",
   "execution_count": 117,
   "metadata": {
    "collapsed": false
   },
   "outputs": [
    {
     "name": "stdout",
     "output_type": "stream",
     "text": [
      "/home/edill/dev/python/scikit-xray/skxray/io/tests/test_api.py\n",
      "/home/edill/dev/python/scikit-xray/skxray/io/tests/test_netCDF_io.py\n",
      "/home/edill/dev/python/scikit-xray/skxray/io/tests/test_powder_output.py\n",
      "/home/edill/dev/python/scikit-xray/skxray/io/tests/__init__.py\n",
      "/home/edill/dev/python/scikit-xray/skxray/core/constants/tests/test_api.py\n",
      "/home/edill/dev/python/scikit-xray/skxray/core/constants/tests/test_xrs.py\n",
      "/home/edill/dev/python/scikit-xray/skxray/core/constants/tests/test_basic.py\n",
      "/home/edill/dev/python/scikit-xray/skxray/core/constants/tests/test_xrf.py\n",
      "/home/edill/dev/python/scikit-xray/skxray/core/constants/tests/__init__.py\n",
      "/home/edill/dev/python/scikit-xray/skxray/core/tests/test_feature.py\n",
      "/home/edill/dev/python/scikit-xray/skxray/core/tests/test_roi.py\n",
      "/home/edill/dev/python/scikit-xray/skxray/core/tests/test_recip.py\n",
      "/home/edill/dev/python/scikit-xray/skxray/core/tests/test_image.py\n",
      "/home/edill/dev/python/scikit-xray/skxray/core/tests/test_utils.py\n",
      "/home/edill/dev/python/scikit-xray/skxray/core/tests/test_speckle.py\n",
      "/home/edill/dev/python/scikit-xray/skxray/core/tests/test_calibration.py\n",
      "/home/edill/dev/python/scikit-xray/skxray/core/tests/test_spectroscopy.py\n",
      "/home/edill/dev/python/scikit-xray/skxray/core/tests/test_arithmetic.py\n",
      "/home/edill/dev/python/scikit-xray/skxray/core/tests/test_stats.py\n",
      "/home/edill/dev/python/scikit-xray/skxray/core/tests/test_correlation.py\n",
      "/home/edill/dev/python/scikit-xray/skxray/core/tests/test_cdi.py\n",
      "/home/edill/dev/python/scikit-xray/skxray/core/tests/test_dpc.py\n",
      "/home/edill/dev/python/scikit-xray/skxray/core/tests/__init__.py\n",
      "/home/edill/dev/python/scikit-xray/skxray/core/fitting/tests/test_xrf_fit.py\n",
      "/home/edill/dev/python/scikit-xray/skxray/core/fitting/tests/test_background.py\n",
      "/home/edill/dev/python/scikit-xray/skxray/core/fitting/tests/test_lineshapes.py\n",
      "/home/edill/dev/python/scikit-xray/skxray/core/fitting/tests/__init__.py\n",
      "/home/edill/dev/python/scikit-xray/skxray/tests/test_diffraction.py\n",
      "/home/edill/dev/python/scikit-xray/skxray/tests/test_openness.py\n",
      "/home/edill/dev/python/scikit-xray/skxray/tests/test_fluorescence.py\n",
      "/home/edill/dev/python/scikit-xray/skxray/tests/__init__.py\n",
      "/home/edill/dev/python/scikit-xray/skxray/testing/noseclasses.py\n",
      "/home/edill/dev/python/scikit-xray/skxray/testing/decorators.py\n",
      "/home/edill/dev/python/scikit-xray/skxray/testing/__init__.py\n"
     ]
    }
   ],
   "source": [
    "# print found test modules\n",
    "for mod, path, catcher in tests:\n",
    "    print(path)"
   ]
  },
  {
   "cell_type": "code",
   "execution_count": null,
   "metadata": {
    "collapsed": true
   },
   "outputs": [],
   "source": []
  },
  {
   "cell_type": "code",
   "execution_count": null,
   "metadata": {
    "collapsed": true
   },
   "outputs": [],
   "source": []
  },
  {
   "cell_type": "code",
   "execution_count": 15,
   "metadata": {
    "collapsed": false
   },
   "outputs": [
    {
     "data": {
      "text/plain": [
       "<_sre.SRE_Match object; span=(0, 10), match='py.test.py'>"
      ]
     },
     "execution_count": 15,
     "metadata": {},
     "output_type": "execute_result"
    }
   ],
   "source": [
    "test_regex.match('py.test.py')"
   ]
  },
  {
   "cell_type": "code",
   "execution_count": null,
   "metadata": {
    "collapsed": true
   },
   "outputs": [],
   "source": []
  }
 ],
 "metadata": {
  "kernelspec": {
   "display_name": "Python 3",
   "language": "python",
   "name": "python3"
  },
  "language_info": {
   "codemirror_mode": {
    "name": "ipython",
    "version": 3
   },
   "file_extension": ".py",
   "mimetype": "text/x-python",
   "name": "python",
   "nbconvert_exporter": "python",
   "pygments_lexer": "ipython3",
   "version": "3.4.3"
  }
 },
 "nbformat": 4,
 "nbformat_minor": 0
}
